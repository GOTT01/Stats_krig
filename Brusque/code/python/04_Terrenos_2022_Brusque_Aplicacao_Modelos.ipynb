{
 "cells": [
  {
   "cell_type": "markdown",
   "id": "6d72be40",
   "metadata": {},
   "source": [
    "# Aplicação dos Modelos\n",
    "- Augusto Oliveira (augoliv@gmail.com)"
   ]
  },
  {
   "cell_type": "markdown",
   "id": "e1323c9b",
   "metadata": {},
   "source": [
    "### Variáveis\n",
    "- potencial_construtivo\n",
    "- renda                \n",
    "- dist_via_principal   \n",
    "- dist_via_secundaria  \n",
    "- dist_polo_padrao     \n",
    "- dist_polo_valoriz    \n",
    "- dist_polo_desvaloriz \n",
    "- area                 \n",
    "- precounit"
   ]
  },
  {
   "cell_type": "markdown",
   "id": "32e823e2",
   "metadata": {},
   "source": [
    "## Bibliotecas e Setup Inicial"
   ]
  },
  {
   "cell_type": "code",
   "execution_count": 33,
   "id": "a259cd77",
   "metadata": {},
   "outputs": [],
   "source": [
    "import numpy as np\n",
    "import pandas as pd\n",
    "import geopandas as gpd\n",
    "import seaborn as sns\n",
    "import plotly.express as px\n",
    "import matplotlib.pyplot as plt\n",
    "import warnings"
   ]
  },
  {
   "cell_type": "code",
   "execution_count": 34,
   "id": "43cdcc19",
   "metadata": {},
   "outputs": [],
   "source": [
    "# Métricas de avaliação\n",
    "import metricas_avaliacao as ma"
   ]
  },
  {
   "cell_type": "code",
   "execution_count": 35,
   "id": "67098b63",
   "metadata": {},
   "outputs": [],
   "source": [
    "warnings.filterwarnings('ignore')"
   ]
  },
  {
   "cell_type": "code",
   "execution_count": 36,
   "id": "cb2676fa",
   "metadata": {},
   "outputs": [],
   "source": [
    "pd.set_option('display.max_columns', None)"
   ]
  },
  {
   "cell_type": "code",
   "execution_count": 37,
   "id": "ab250ba9",
   "metadata": {},
   "outputs": [],
   "source": [
    "pd.set_option('display.float_format', lambda x: '%.5f' % x)"
   ]
  },
  {
   "cell_type": "code",
   "execution_count": 38,
   "id": "97f474c7",
   "metadata": {},
   "outputs": [],
   "source": [
    "sns.set(rc={'figure.figsize':(10,6)})"
   ]
  },
  {
   "cell_type": "code",
   "execution_count": null,
   "id": "73a4795a",
   "metadata": {},
   "outputs": [],
   "source": []
  },
  {
   "cell_type": "markdown",
   "id": "2c6f00af",
   "metadata": {},
   "source": [
    "## Importar modelos"
   ]
  },
  {
   "cell_type": "code",
   "execution_count": 39,
   "id": "cb744d3f",
   "metadata": {},
   "outputs": [],
   "source": [
    "import pickle \n",
    "filename = 'obj/terrenos_brusque_2022_modelo_rf.pkl'\n",
    "with open(filename, 'rb') as f:\n",
    "    modelo = pickle.load(f)"
   ]
  },
  {
   "cell_type": "markdown",
   "id": "0aefefdd",
   "metadata": {},
   "source": [
    "## Importar Geopackage com Lotes e Variáveis"
   ]
  },
  {
   "cell_type": "code",
   "execution_count": 40,
   "id": "c0bf7c2b",
   "metadata": {},
   "outputs": [],
   "source": [
    "df = gpd.read_file(\"../../data/lotes_variaveis_brusque.gpkg\")"
   ]
  },
  {
   "cell_type": "code",
   "execution_count": 41,
   "id": "c03b7f0c",
   "metadata": {},
   "outputs": [],
   "source": [
    "df.set_index(['id','ct_bciinsc','inscricao'], inplace=True)"
   ]
  },
  {
   "cell_type": "code",
   "execution_count": 42,
   "id": "406a98ea",
   "metadata": {},
   "outputs": [],
   "source": [
    "df = df[['potencial_construtivo', 'renda', 'dist_via_principal',\n",
    "       'dist_via_secundaria', 'dist_polo_padrao', 'dist_polo_valoriz',\n",
    "       'dist_polo_desvaloriz', 'area']]"
   ]
  },
  {
   "cell_type": "code",
   "execution_count": 43,
   "id": "f64f4827",
   "metadata": {},
   "outputs": [
    {
     "data": {
      "text/html": [
       "<div>\n",
       "<style scoped>\n",
       "    .dataframe tbody tr th:only-of-type {\n",
       "        vertical-align: middle;\n",
       "    }\n",
       "\n",
       "    .dataframe tbody tr th {\n",
       "        vertical-align: top;\n",
       "    }\n",
       "\n",
       "    .dataframe thead th {\n",
       "        text-align: right;\n",
       "    }\n",
       "</style>\n",
       "<table border=\"1\" class=\"dataframe\">\n",
       "  <thead>\n",
       "    <tr style=\"text-align: right;\">\n",
       "      <th></th>\n",
       "      <th></th>\n",
       "      <th></th>\n",
       "      <th>potencial_construtivo</th>\n",
       "      <th>renda</th>\n",
       "      <th>dist_via_principal</th>\n",
       "      <th>dist_via_secundaria</th>\n",
       "      <th>dist_polo_padrao</th>\n",
       "      <th>dist_polo_valoriz</th>\n",
       "      <th>dist_polo_desvaloriz</th>\n",
       "      <th>area</th>\n",
       "    </tr>\n",
       "    <tr>\n",
       "      <th>id</th>\n",
       "      <th>ct_bciinsc</th>\n",
       "      <th>inscricao</th>\n",
       "      <th></th>\n",
       "      <th></th>\n",
       "      <th></th>\n",
       "      <th></th>\n",
       "      <th></th>\n",
       "      <th></th>\n",
       "      <th></th>\n",
       "      <th></th>\n",
       "    </tr>\n",
       "  </thead>\n",
       "  <tbody>\n",
       "    <tr>\n",
       "      <th>10231092</th>\n",
       "      <th>01.28.011.1787</th>\n",
       "      <th>1280111787</th>\n",
       "      <td>0</td>\n",
       "      <td>1396.37000</td>\n",
       "      <td>5480.29000</td>\n",
       "      <td>29.94000</td>\n",
       "      <td>332.91000</td>\n",
       "      <td>325.77000</td>\n",
       "      <td>1586.44000</td>\n",
       "      <td>180.27000</td>\n",
       "    </tr>\n",
       "  </tbody>\n",
       "</table>\n",
       "</div>"
      ],
      "text/plain": [
       "                                    potencial_construtivo      renda  \\\n",
       "id       ct_bciinsc     inscricao                                      \n",
       "10231092 01.28.011.1787 1280111787                      0 1396.37000   \n",
       "\n",
       "                                    dist_via_principal  dist_via_secundaria  \\\n",
       "id       ct_bciinsc     inscricao                                             \n",
       "10231092 01.28.011.1787 1280111787          5480.29000             29.94000   \n",
       "\n",
       "                                    dist_polo_padrao  dist_polo_valoriz  \\\n",
       "id       ct_bciinsc     inscricao                                         \n",
       "10231092 01.28.011.1787 1280111787         332.91000          325.77000   \n",
       "\n",
       "                                    dist_polo_desvaloriz      area  \n",
       "id       ct_bciinsc     inscricao                                   \n",
       "10231092 01.28.011.1787 1280111787            1586.44000 180.27000  "
      ]
     },
     "execution_count": 43,
     "metadata": {},
     "output_type": "execute_result"
    }
   ],
   "source": [
    "df.head(1)"
   ]
  },
  {
   "cell_type": "markdown",
   "id": "14b5302e",
   "metadata": {},
   "source": [
    "## Predição"
   ]
  },
  {
   "cell_type": "code",
   "execution_count": 44,
   "id": "398fb14d",
   "metadata": {},
   "outputs": [],
   "source": [
    "df['area'] = 400\n",
    "df['predicao'] = np.round(modelo.predict(df),2)"
   ]
  },
  {
   "cell_type": "code",
   "execution_count": 45,
   "id": "4952569c",
   "metadata": {},
   "outputs": [
    {
     "data": {
      "text/html": [
       "<div>\n",
       "<style scoped>\n",
       "    .dataframe tbody tr th:only-of-type {\n",
       "        vertical-align: middle;\n",
       "    }\n",
       "\n",
       "    .dataframe tbody tr th {\n",
       "        vertical-align: top;\n",
       "    }\n",
       "\n",
       "    .dataframe thead th {\n",
       "        text-align: right;\n",
       "    }\n",
       "</style>\n",
       "<table border=\"1\" class=\"dataframe\">\n",
       "  <thead>\n",
       "    <tr style=\"text-align: right;\">\n",
       "      <th></th>\n",
       "      <th></th>\n",
       "      <th></th>\n",
       "      <th>potencial_construtivo</th>\n",
       "      <th>renda</th>\n",
       "      <th>dist_via_principal</th>\n",
       "      <th>dist_via_secundaria</th>\n",
       "      <th>dist_polo_padrao</th>\n",
       "      <th>dist_polo_valoriz</th>\n",
       "      <th>dist_polo_desvaloriz</th>\n",
       "      <th>area</th>\n",
       "      <th>predicao</th>\n",
       "    </tr>\n",
       "    <tr>\n",
       "      <th>id</th>\n",
       "      <th>ct_bciinsc</th>\n",
       "      <th>inscricao</th>\n",
       "      <th></th>\n",
       "      <th></th>\n",
       "      <th></th>\n",
       "      <th></th>\n",
       "      <th></th>\n",
       "      <th></th>\n",
       "      <th></th>\n",
       "      <th></th>\n",
       "      <th></th>\n",
       "    </tr>\n",
       "  </thead>\n",
       "  <tbody>\n",
       "    <tr>\n",
       "      <th>10231092</th>\n",
       "      <th>01.28.011.1787</th>\n",
       "      <th>1280111787</th>\n",
       "      <td>0</td>\n",
       "      <td>1396.37000</td>\n",
       "      <td>5480.29000</td>\n",
       "      <td>29.94000</td>\n",
       "      <td>332.91000</td>\n",
       "      <td>325.77000</td>\n",
       "      <td>1586.44000</td>\n",
       "      <td>400</td>\n",
       "      <td>1004.20000</td>\n",
       "    </tr>\n",
       "  </tbody>\n",
       "</table>\n",
       "</div>"
      ],
      "text/plain": [
       "                                    potencial_construtivo      renda  \\\n",
       "id       ct_bciinsc     inscricao                                      \n",
       "10231092 01.28.011.1787 1280111787                      0 1396.37000   \n",
       "\n",
       "                                    dist_via_principal  dist_via_secundaria  \\\n",
       "id       ct_bciinsc     inscricao                                             \n",
       "10231092 01.28.011.1787 1280111787          5480.29000             29.94000   \n",
       "\n",
       "                                    dist_polo_padrao  dist_polo_valoriz  \\\n",
       "id       ct_bciinsc     inscricao                                         \n",
       "10231092 01.28.011.1787 1280111787         332.91000          325.77000   \n",
       "\n",
       "                                    dist_polo_desvaloriz  area   predicao  \n",
       "id       ct_bciinsc     inscricao                                          \n",
       "10231092 01.28.011.1787 1280111787            1586.44000   400 1004.20000  "
      ]
     },
     "execution_count": 45,
     "metadata": {},
     "output_type": "execute_result"
    }
   ],
   "source": [
    "df.head(1)"
   ]
  },
  {
   "cell_type": "code",
   "execution_count": 47,
   "id": "3ffe1844",
   "metadata": {},
   "outputs": [],
   "source": [
    "df.to_csv(\"../../data/lotes_projecao_brusque.csv\")"
   ]
  },
  {
   "cell_type": "code",
   "execution_count": null,
   "id": "10512eb0",
   "metadata": {},
   "outputs": [],
   "source": []
  }
 ],
 "metadata": {
  "kernelspec": {
   "display_name": "Python 3 (ipykernel)",
   "language": "python",
   "name": "python3"
  },
  "language_info": {
   "codemirror_mode": {
    "name": "ipython",
    "version": 3
   },
   "file_extension": ".py",
   "mimetype": "text/x-python",
   "name": "python",
   "nbconvert_exporter": "python",
   "pygments_lexer": "ipython3",
   "version": "3.7.7"
  }
 },
 "nbformat": 4,
 "nbformat_minor": 5
}
